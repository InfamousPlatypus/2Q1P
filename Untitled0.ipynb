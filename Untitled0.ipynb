{
  "nbformat": 4,
  "nbformat_minor": 0,
  "metadata": {
    "colab": {
      "provenance": []
    },
    "kernelspec": {
      "name": "python3",
      "display_name": "Python 3"
    },
    "language_info": {
      "name": "python"
    }
  },
  "cells": [
    {
      "cell_type": "code",
      "execution_count": 51,
      "metadata": {
        "id": "Hs5FfUCg87pf"
      },
      "outputs": [],
      "source": [
        "import random\n",
        "from random import random as rnd\n",
        "random.seed(10)\n",
        "\n",
        "class QDuo:\n",
        "  q0=0\n",
        "  q1=0\n",
        "\n",
        "  def __init__(self, in0=0, in1=0):\n",
        "    self.q0=in0\n",
        "    self.q1=in1\n",
        "\n",
        "\n",
        "  #This will make sure we stay between 0,1\n",
        "  def _Check(self):\n",
        "\n",
        "    recheck=False\n",
        "\n",
        "    if self.q0>= 1:\n",
        "      self.q0 = self.q0-1\n",
        "      recheck=True\n",
        "\n",
        "    if self.q1>=1:\n",
        "      self.q1 = self.q1=1\n",
        "      recheck=True\n",
        "\n",
        "    if recheck:\n",
        "      self._Check()\n",
        "\n",
        "  #This is partly a test that I can construct something that will adjust the values\n",
        "  #This will give us a random number to adjust the values of the qubits a certan direction\n",
        "  #It will then adjust in that direction from nothing to a value given by r0, r1\n",
        "  def wire(self, r0,r1):\n",
        "    return NotImplementedError\n",
        "\n",
        "  #q1, Path defined adjustments\n",
        "\n",
        "  #This is an X gate for q1\n",
        "  #This is created physically by a set of mirrors that do nothing to anything else.\n",
        "  #As such I will use this as a basic gate rather than constructing from other parts\n",
        "  def XQ1(self):\n",
        "    self.q1=1-self.q1\n",
        "\n",
        "qbits=QDuo()"
      ]
    },
    {
      "cell_type": "code",
      "source": [
        "qbits.XQ1()\n",
        "#qbits.XQ1()\n",
        "print(qbits.q0)\n",
        "print(qbits.q1)"
      ],
      "metadata": {
        "colab": {
          "base_uri": "https://localhost:8080/"
        },
        "id": "mZSfNHhEP2QM",
        "outputId": "709650f9-df03-457e-b4e4-ed6c1f31b910"
      },
      "execution_count": 56,
      "outputs": [
        {
          "output_type": "stream",
          "name": "stdout",
          "text": [
            "0\n",
            "0\n"
          ]
        }
      ]
    }
  ]
}